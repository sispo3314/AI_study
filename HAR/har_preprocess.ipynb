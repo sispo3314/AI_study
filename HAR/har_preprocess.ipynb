{
  "nbformat": 4,
  "nbformat_minor": 0,
  "metadata": {
    "colab": {
      "provenance": [],
      "mount_file_id": "1okKM0kcZFwO_wHt17VTkwS2aiKpecFuT",
      "authorship_tag": "ABX9TyNXQFewkY4WY22GEk6rXrcI",
      "include_colab_link": true
    },
    "kernelspec": {
      "name": "python3",
      "display_name": "Python 3"
    },
    "language_info": {
      "name": "python"
    }
  },
  "cells": [
    {
      "cell_type": "markdown",
      "metadata": {
        "id": "view-in-github",
        "colab_type": "text"
      },
      "source": [
        "<a href=\"https://colab.research.google.com/github/sispo3314/AI_study/blob/main/HAR/har_preprocess.ipynb\" target=\"_parent\"><img src=\"https://colab.research.google.com/assets/colab-badge.svg\" alt=\"Open In Colab\"/></a>"
      ]
    },
    {
      "cell_type": "code",
      "execution_count": 1,
      "metadata": {
        "id": "BsZXuuQD6ltU"
      },
      "outputs": [],
      "source": [
        "import os\n",
        "import numpy as np\n",
        "import pandas as pd\n",
        "import matplotlib.pyplot as plt\n",
        "import seaborn as sns\n",
        "import warnings\n",
        "warnings.filterwarnings('ignore')"
      ]
    },
    {
      "cell_type": "code",
      "source": [
        "data_path=os.path.join(os.getcwd(), 'drive', 'MyDrive', 'datasets', 'UCI HAR Dataset')\n",
        "\n",
        "#특성 추출\n",
        "features=list()\n",
        "with open(os.path.join(data_path, 'features.txt')) as f:\n",
        "        features=[line.split()[1] for line in f.readlines()]\n",
        "print('No of Features:{}'.format(len(features)))"
      ],
      "metadata": {
        "colab": {
          "base_uri": "https://localhost:8080/"
        },
        "id": "vb9K6Hdv63Vy",
        "outputId": "d01138bb-ae38-45d7-b6da-be5de95611f0"
      },
      "execution_count": 2,
      "outputs": [
        {
          "output_type": "stream",
          "name": "stdout",
          "text": [
            "No of Features:561\n"
          ]
        }
      ]
    },
    {
      "cell_type": "code",
      "source": [
        "#delim_whitespace: 공백으로 구분된 값으로 파일 읽기\n",
        "X_train=pd.read_csv(os.path.join(data_path, 'train', 'X_train.txt'), delim_whitespace=True, header=None)\n",
        "X_train.columns=features\n",
        "X_train['subject']=pd.read_csv(os.path.join(data_path, 'train', 'subject_train.txt'), header=None).squeeze('columns')\n",
        "\n",
        "y_train=pd.read_csv(os.path.join(data_path, 'train', 'y_train.txt'), names=['Activity']).squeeze('columns')\n",
        "y_train_labels=y_train.map({1:'WALKING',\n",
        "                            2:'WALKING_UPSTAIRS',\n",
        "                            3:'WALKING_DOWNSTAIRS',\n",
        "                            4:'SITTING',\n",
        "                            5:'STANDING',\n",
        "                            6:'LAYING'})\n",
        "train=X_train\n",
        "train['Activity']=y_train\n",
        "train['ActivityName']=y_train_labels\n",
        "train.sample()"
      ],
      "metadata": {
        "colab": {
          "base_uri": "https://localhost:8080/",
          "height": 147
        },
        "id": "xOI_QZFx851k",
        "outputId": "63cc3a33-99b5-4244-e0c1-ebd3c1fb6bf3"
      },
      "execution_count": 3,
      "outputs": [
        {
          "output_type": "execute_result",
          "data": {
            "text/plain": [
              "      tBodyAcc-mean()-X  tBodyAcc-mean()-Y  tBodyAcc-mean()-Z  \\\n",
              "1482           0.274919           -0.03414          -0.107513   \n",
              "\n",
              "      tBodyAcc-std()-X  tBodyAcc-std()-Y  tBodyAcc-std()-Z  tBodyAcc-mad()-X  \\\n",
              "1482         -0.966594         -0.899845         -0.926221         -0.973188   \n",
              "\n",
              "      tBodyAcc-mad()-Y  tBodyAcc-mad()-Z  tBodyAcc-max()-X  ...  \\\n",
              "1482         -0.910633         -0.923163         -0.881453  ...   \n",
              "\n",
              "      angle(tBodyAccMean,gravity)  angle(tBodyAccJerkMean),gravityMean)  \\\n",
              "1482                    -0.044333                             -0.495482   \n",
              "\n",
              "      angle(tBodyGyroMean,gravityMean)  angle(tBodyGyroJerkMean,gravityMean)  \\\n",
              "1482                         -0.415648                             -0.767269   \n",
              "\n",
              "      angle(X,gravityMean)  angle(Y,gravityMean)  angle(Z,gravityMean)  \\\n",
              "1482             -0.831017              0.192392             -0.054108   \n",
              "\n",
              "      subject  Activity  ActivityName  \n",
              "1482        7         5      STANDING  \n",
              "\n",
              "[1 rows x 564 columns]"
            ],
            "text/html": [
              "\n",
              "  <div id=\"df-3fcdb00e-95fe-4be5-b784-afe0fc747197\" class=\"colab-df-container\">\n",
              "    <div>\n",
              "<style scoped>\n",
              "    .dataframe tbody tr th:only-of-type {\n",
              "        vertical-align: middle;\n",
              "    }\n",
              "\n",
              "    .dataframe tbody tr th {\n",
              "        vertical-align: top;\n",
              "    }\n",
              "\n",
              "    .dataframe thead th {\n",
              "        text-align: right;\n",
              "    }\n",
              "</style>\n",
              "<table border=\"1\" class=\"dataframe\">\n",
              "  <thead>\n",
              "    <tr style=\"text-align: right;\">\n",
              "      <th></th>\n",
              "      <th>tBodyAcc-mean()-X</th>\n",
              "      <th>tBodyAcc-mean()-Y</th>\n",
              "      <th>tBodyAcc-mean()-Z</th>\n",
              "      <th>tBodyAcc-std()-X</th>\n",
              "      <th>tBodyAcc-std()-Y</th>\n",
              "      <th>tBodyAcc-std()-Z</th>\n",
              "      <th>tBodyAcc-mad()-X</th>\n",
              "      <th>tBodyAcc-mad()-Y</th>\n",
              "      <th>tBodyAcc-mad()-Z</th>\n",
              "      <th>tBodyAcc-max()-X</th>\n",
              "      <th>...</th>\n",
              "      <th>angle(tBodyAccMean,gravity)</th>\n",
              "      <th>angle(tBodyAccJerkMean),gravityMean)</th>\n",
              "      <th>angle(tBodyGyroMean,gravityMean)</th>\n",
              "      <th>angle(tBodyGyroJerkMean,gravityMean)</th>\n",
              "      <th>angle(X,gravityMean)</th>\n",
              "      <th>angle(Y,gravityMean)</th>\n",
              "      <th>angle(Z,gravityMean)</th>\n",
              "      <th>subject</th>\n",
              "      <th>Activity</th>\n",
              "      <th>ActivityName</th>\n",
              "    </tr>\n",
              "  </thead>\n",
              "  <tbody>\n",
              "    <tr>\n",
              "      <th>1482</th>\n",
              "      <td>0.274919</td>\n",
              "      <td>-0.03414</td>\n",
              "      <td>-0.107513</td>\n",
              "      <td>-0.966594</td>\n",
              "      <td>-0.899845</td>\n",
              "      <td>-0.926221</td>\n",
              "      <td>-0.973188</td>\n",
              "      <td>-0.910633</td>\n",
              "      <td>-0.923163</td>\n",
              "      <td>-0.881453</td>\n",
              "      <td>...</td>\n",
              "      <td>-0.044333</td>\n",
              "      <td>-0.495482</td>\n",
              "      <td>-0.415648</td>\n",
              "      <td>-0.767269</td>\n",
              "      <td>-0.831017</td>\n",
              "      <td>0.192392</td>\n",
              "      <td>-0.054108</td>\n",
              "      <td>7</td>\n",
              "      <td>5</td>\n",
              "      <td>STANDING</td>\n",
              "    </tr>\n",
              "  </tbody>\n",
              "</table>\n",
              "<p>1 rows × 564 columns</p>\n",
              "</div>\n",
              "    <div class=\"colab-df-buttons\">\n",
              "\n",
              "  <div class=\"colab-df-container\">\n",
              "    <button class=\"colab-df-convert\" onclick=\"convertToInteractive('df-3fcdb00e-95fe-4be5-b784-afe0fc747197')\"\n",
              "            title=\"Convert this dataframe to an interactive table.\"\n",
              "            style=\"display:none;\">\n",
              "\n",
              "  <svg xmlns=\"http://www.w3.org/2000/svg\" height=\"24px\" viewBox=\"0 -960 960 960\">\n",
              "    <path d=\"M120-120v-720h720v720H120Zm60-500h600v-160H180v160Zm220 220h160v-160H400v160Zm0 220h160v-160H400v160ZM180-400h160v-160H180v160Zm440 0h160v-160H620v160ZM180-180h160v-160H180v160Zm440 0h160v-160H620v160Z\"/>\n",
              "  </svg>\n",
              "    </button>\n",
              "\n",
              "  <style>\n",
              "    .colab-df-container {\n",
              "      display:flex;\n",
              "      gap: 12px;\n",
              "    }\n",
              "\n",
              "    .colab-df-convert {\n",
              "      background-color: #E8F0FE;\n",
              "      border: none;\n",
              "      border-radius: 50%;\n",
              "      cursor: pointer;\n",
              "      display: none;\n",
              "      fill: #1967D2;\n",
              "      height: 32px;\n",
              "      padding: 0 0 0 0;\n",
              "      width: 32px;\n",
              "    }\n",
              "\n",
              "    .colab-df-convert:hover {\n",
              "      background-color: #E2EBFA;\n",
              "      box-shadow: 0px 1px 2px rgba(60, 64, 67, 0.3), 0px 1px 3px 1px rgba(60, 64, 67, 0.15);\n",
              "      fill: #174EA6;\n",
              "    }\n",
              "\n",
              "    .colab-df-buttons div {\n",
              "      margin-bottom: 4px;\n",
              "    }\n",
              "\n",
              "    [theme=dark] .colab-df-convert {\n",
              "      background-color: #3B4455;\n",
              "      fill: #D2E3FC;\n",
              "    }\n",
              "\n",
              "    [theme=dark] .colab-df-convert:hover {\n",
              "      background-color: #434B5C;\n",
              "      box-shadow: 0px 1px 3px 1px rgba(0, 0, 0, 0.15);\n",
              "      filter: drop-shadow(0px 1px 2px rgba(0, 0, 0, 0.3));\n",
              "      fill: #FFFFFF;\n",
              "    }\n",
              "  </style>\n",
              "\n",
              "    <script>\n",
              "      const buttonEl =\n",
              "        document.querySelector('#df-3fcdb00e-95fe-4be5-b784-afe0fc747197 button.colab-df-convert');\n",
              "      buttonEl.style.display =\n",
              "        google.colab.kernel.accessAllowed ? 'block' : 'none';\n",
              "\n",
              "      async function convertToInteractive(key) {\n",
              "        const element = document.querySelector('#df-3fcdb00e-95fe-4be5-b784-afe0fc747197');\n",
              "        const dataTable =\n",
              "          await google.colab.kernel.invokeFunction('convertToInteractive',\n",
              "                                                    [key], {});\n",
              "        if (!dataTable) return;\n",
              "\n",
              "        const docLinkHtml = 'Like what you see? Visit the ' +\n",
              "          '<a target=\"_blank\" href=https://colab.research.google.com/notebooks/data_table.ipynb>data table notebook</a>'\n",
              "          + ' to learn more about interactive tables.';\n",
              "        element.innerHTML = '';\n",
              "        dataTable['output_type'] = 'display_data';\n",
              "        await google.colab.output.renderOutput(dataTable, element);\n",
              "        const docLink = document.createElement('div');\n",
              "        docLink.innerHTML = docLinkHtml;\n",
              "        element.appendChild(docLink);\n",
              "      }\n",
              "    </script>\n",
              "  </div>\n",
              "\n",
              "\n",
              "    </div>\n",
              "  </div>\n"
            ],
            "application/vnd.google.colaboratory.intrinsic+json": {
              "type": "dataframe"
            }
          },
          "metadata": {},
          "execution_count": 3
        }
      ]
    },
    {
      "cell_type": "code",
      "source": [
        "X_test=pd.read_csv(os.path.join(data_path, 'test', 'X_test.txt'), delim_whitespace=True, header=None)\n",
        "X_test.columns=features\n",
        "X_test['subject']=pd.read_csv(os.path.join(data_path, 'test', 'subject_test.txt'), header=None).squeeze('columns')\n",
        "y_test=pd.read_csv(os.path.join(data_path, 'test', 'y_test.txt'), names=['Activity']).squeeze('columns')\n",
        "y_test_labels=y_test.map({1:'WALKING', 2:'WALKING_UPSTAIRS', 3:'WALKING_DOWNSTAIRS', 4:'SITTING', 5:'STANDING', 6:'LAYING'})\n",
        "test=X_test\n",
        "test['Activity']=y_test\n",
        "test['ActivityName']=y_test_labels\n",
        "train.sample()"
      ],
      "metadata": {
        "colab": {
          "base_uri": "https://localhost:8080/",
          "height": 147
        },
        "id": "iILLB8427azG",
        "outputId": "69f6e614-1b34-4a62-8304-37b45bf79d3a"
      },
      "execution_count": 4,
      "outputs": [
        {
          "output_type": "execute_result",
          "data": {
            "text/plain": [
              "      tBodyAcc-mean()-X  tBodyAcc-mean()-Y  tBodyAcc-mean()-Z  \\\n",
              "1140           0.208672           0.002149          -0.110192   \n",
              "\n",
              "      tBodyAcc-std()-X  tBodyAcc-std()-Y  tBodyAcc-std()-Z  tBodyAcc-mad()-X  \\\n",
              "1140          0.009746          0.206017          -0.49589         -0.040282   \n",
              "\n",
              "      tBodyAcc-mad()-Y  tBodyAcc-mad()-Z  tBodyAcc-max()-X  ...  \\\n",
              "1140           0.16475         -0.477613           0.24712  ...   \n",
              "\n",
              "      angle(tBodyAccMean,gravity)  angle(tBodyAccJerkMean),gravityMean)  \\\n",
              "1140                     0.807305                             -0.844036   \n",
              "\n",
              "      angle(tBodyGyroMean,gravityMean)  angle(tBodyGyroJerkMean,gravityMean)  \\\n",
              "1140                          0.887524                             -0.650526   \n",
              "\n",
              "      angle(X,gravityMean)  angle(Y,gravityMean)  angle(Z,gravityMean)  \\\n",
              "1140             -0.699743              0.305582              0.015922   \n",
              "\n",
              "      subject  Activity      ActivityName  \n",
              "1140        6         2  WALKING_UPSTAIRS  \n",
              "\n",
              "[1 rows x 564 columns]"
            ],
            "text/html": [
              "\n",
              "  <div id=\"df-ac0c772f-db69-4221-8768-1443d5edbbae\" class=\"colab-df-container\">\n",
              "    <div>\n",
              "<style scoped>\n",
              "    .dataframe tbody tr th:only-of-type {\n",
              "        vertical-align: middle;\n",
              "    }\n",
              "\n",
              "    .dataframe tbody tr th {\n",
              "        vertical-align: top;\n",
              "    }\n",
              "\n",
              "    .dataframe thead th {\n",
              "        text-align: right;\n",
              "    }\n",
              "</style>\n",
              "<table border=\"1\" class=\"dataframe\">\n",
              "  <thead>\n",
              "    <tr style=\"text-align: right;\">\n",
              "      <th></th>\n",
              "      <th>tBodyAcc-mean()-X</th>\n",
              "      <th>tBodyAcc-mean()-Y</th>\n",
              "      <th>tBodyAcc-mean()-Z</th>\n",
              "      <th>tBodyAcc-std()-X</th>\n",
              "      <th>tBodyAcc-std()-Y</th>\n",
              "      <th>tBodyAcc-std()-Z</th>\n",
              "      <th>tBodyAcc-mad()-X</th>\n",
              "      <th>tBodyAcc-mad()-Y</th>\n",
              "      <th>tBodyAcc-mad()-Z</th>\n",
              "      <th>tBodyAcc-max()-X</th>\n",
              "      <th>...</th>\n",
              "      <th>angle(tBodyAccMean,gravity)</th>\n",
              "      <th>angle(tBodyAccJerkMean),gravityMean)</th>\n",
              "      <th>angle(tBodyGyroMean,gravityMean)</th>\n",
              "      <th>angle(tBodyGyroJerkMean,gravityMean)</th>\n",
              "      <th>angle(X,gravityMean)</th>\n",
              "      <th>angle(Y,gravityMean)</th>\n",
              "      <th>angle(Z,gravityMean)</th>\n",
              "      <th>subject</th>\n",
              "      <th>Activity</th>\n",
              "      <th>ActivityName</th>\n",
              "    </tr>\n",
              "  </thead>\n",
              "  <tbody>\n",
              "    <tr>\n",
              "      <th>1140</th>\n",
              "      <td>0.208672</td>\n",
              "      <td>0.002149</td>\n",
              "      <td>-0.110192</td>\n",
              "      <td>0.009746</td>\n",
              "      <td>0.206017</td>\n",
              "      <td>-0.49589</td>\n",
              "      <td>-0.040282</td>\n",
              "      <td>0.16475</td>\n",
              "      <td>-0.477613</td>\n",
              "      <td>0.24712</td>\n",
              "      <td>...</td>\n",
              "      <td>0.807305</td>\n",
              "      <td>-0.844036</td>\n",
              "      <td>0.887524</td>\n",
              "      <td>-0.650526</td>\n",
              "      <td>-0.699743</td>\n",
              "      <td>0.305582</td>\n",
              "      <td>0.015922</td>\n",
              "      <td>6</td>\n",
              "      <td>2</td>\n",
              "      <td>WALKING_UPSTAIRS</td>\n",
              "    </tr>\n",
              "  </tbody>\n",
              "</table>\n",
              "<p>1 rows × 564 columns</p>\n",
              "</div>\n",
              "    <div class=\"colab-df-buttons\">\n",
              "\n",
              "  <div class=\"colab-df-container\">\n",
              "    <button class=\"colab-df-convert\" onclick=\"convertToInteractive('df-ac0c772f-db69-4221-8768-1443d5edbbae')\"\n",
              "            title=\"Convert this dataframe to an interactive table.\"\n",
              "            style=\"display:none;\">\n",
              "\n",
              "  <svg xmlns=\"http://www.w3.org/2000/svg\" height=\"24px\" viewBox=\"0 -960 960 960\">\n",
              "    <path d=\"M120-120v-720h720v720H120Zm60-500h600v-160H180v160Zm220 220h160v-160H400v160Zm0 220h160v-160H400v160ZM180-400h160v-160H180v160Zm440 0h160v-160H620v160ZM180-180h160v-160H180v160Zm440 0h160v-160H620v160Z\"/>\n",
              "  </svg>\n",
              "    </button>\n",
              "\n",
              "  <style>\n",
              "    .colab-df-container {\n",
              "      display:flex;\n",
              "      gap: 12px;\n",
              "    }\n",
              "\n",
              "    .colab-df-convert {\n",
              "      background-color: #E8F0FE;\n",
              "      border: none;\n",
              "      border-radius: 50%;\n",
              "      cursor: pointer;\n",
              "      display: none;\n",
              "      fill: #1967D2;\n",
              "      height: 32px;\n",
              "      padding: 0 0 0 0;\n",
              "      width: 32px;\n",
              "    }\n",
              "\n",
              "    .colab-df-convert:hover {\n",
              "      background-color: #E2EBFA;\n",
              "      box-shadow: 0px 1px 2px rgba(60, 64, 67, 0.3), 0px 1px 3px 1px rgba(60, 64, 67, 0.15);\n",
              "      fill: #174EA6;\n",
              "    }\n",
              "\n",
              "    .colab-df-buttons div {\n",
              "      margin-bottom: 4px;\n",
              "    }\n",
              "\n",
              "    [theme=dark] .colab-df-convert {\n",
              "      background-color: #3B4455;\n",
              "      fill: #D2E3FC;\n",
              "    }\n",
              "\n",
              "    [theme=dark] .colab-df-convert:hover {\n",
              "      background-color: #434B5C;\n",
              "      box-shadow: 0px 1px 3px 1px rgba(0, 0, 0, 0.15);\n",
              "      filter: drop-shadow(0px 1px 2px rgba(0, 0, 0, 0.3));\n",
              "      fill: #FFFFFF;\n",
              "    }\n",
              "  </style>\n",
              "\n",
              "    <script>\n",
              "      const buttonEl =\n",
              "        document.querySelector('#df-ac0c772f-db69-4221-8768-1443d5edbbae button.colab-df-convert');\n",
              "      buttonEl.style.display =\n",
              "        google.colab.kernel.accessAllowed ? 'block' : 'none';\n",
              "\n",
              "      async function convertToInteractive(key) {\n",
              "        const element = document.querySelector('#df-ac0c772f-db69-4221-8768-1443d5edbbae');\n",
              "        const dataTable =\n",
              "          await google.colab.kernel.invokeFunction('convertToInteractive',\n",
              "                                                    [key], {});\n",
              "        if (!dataTable) return;\n",
              "\n",
              "        const docLinkHtml = 'Like what you see? Visit the ' +\n",
              "          '<a target=\"_blank\" href=https://colab.research.google.com/notebooks/data_table.ipynb>data table notebook</a>'\n",
              "          + ' to learn more about interactive tables.';\n",
              "        element.innerHTML = '';\n",
              "        dataTable['output_type'] = 'display_data';\n",
              "        await google.colab.output.renderOutput(dataTable, element);\n",
              "        const docLink = document.createElement('div');\n",
              "        docLink.innerHTML = docLinkHtml;\n",
              "        element.appendChild(docLink);\n",
              "      }\n",
              "    </script>\n",
              "  </div>\n",
              "\n",
              "\n",
              "    </div>\n",
              "  </div>\n"
            ],
            "application/vnd.google.colaboratory.intrinsic+json": {
              "type": "dataframe"
            }
          },
          "metadata": {},
          "execution_count": 4
        }
      ]
    },
    {
      "cell_type": "code",
      "source": [
        "#중복값 체크하기\n",
        "print('No of duplicates in train:{}'.format(sum(train.duplicated())))\n",
        "print('No of duplicates in test:{}'.format(sum(test.duplicated())))"
      ],
      "metadata": {
        "colab": {
          "base_uri": "https://localhost:8080/"
        },
        "id": "WLH9ViuzVVah",
        "outputId": "0b534be1-1421-492d-d066-620ba6eb343a"
      },
      "execution_count": 5,
      "outputs": [
        {
          "output_type": "stream",
          "name": "stdout",
          "text": [
            "No of duplicates in train:0\n",
            "No of duplicates in test:0\n"
          ]
        }
      ]
    },
    {
      "cell_type": "code",
      "source": [
        "#결측치 체크하기\n",
        "#결측치가 있으면 학습 자체가 안 되는 경우도 있기 때문에... 꼭 제거\n",
        "print('We have {} NaN/Null values in train'.format(train.isnull().values.sum()))\n",
        "print('We have {} NaN/Null values in test'.format(test.isnull().values.sum()))"
      ],
      "metadata": {
        "colab": {
          "base_uri": "https://localhost:8080/"
        },
        "id": "eylWhIPOVzyf",
        "outputId": "e07d0a81-8bc5-4555-98f2-ce7717df8764"
      },
      "execution_count": 6,
      "outputs": [
        {
          "output_type": "stream",
          "name": "stdout",
          "text": [
            "We have 0 NaN/Null values in train\n",
            "We have 0 NaN/Null values in test\n"
          ]
        }
      ]
    },
    {
      "cell_type": "code",
      "source": [
        "#각 사람별 행동 데이터 분포\n",
        "sns.set_style('whitegrid')\n",
        "plt.figure(figsize=(16, 8))\n",
        "plt.title('Data provided by each user', fontsize=20)\n",
        "sns.countplot(x='subject', hue='ActivityName', data=train)\n",
        "plt.show()"
      ],
      "metadata": {
        "colab": {
          "base_uri": "https://localhost:8080/",
          "height": 427
        },
        "id": "5c-E_c7fWFcs",
        "outputId": "af85eecd-dc78-4ed9-be6c-7fe662e4bd9e"
      },
      "execution_count": 7,
      "outputs": [
        {
          "output_type": "display_data",
          "data": {
            "text/plain": [
              "<Figure size 1600x800 with 1 Axes>"
            ],
            "image/png": "[encoded data removed]"
          },
          "metadata": {}
        }
      ]
    },
    {
      "cell_type": "code",
      "source": [
        "#전체적인 행동 데이터의 분포\n",
        "plt.title('No of Datapoints per Activity', fontsize=15)\n",
        "sns.countplot(x=\"ActivityName\", data=train)\n",
        "plt.xticks(rotation=90)\n",
        "plt.show()"
      ],
      "metadata": {
        "colab": {
          "base_uri": "https://localhost:8080/",
          "height": 625
        },
        "id": "gCLPhGCwWghA",
        "outputId": "34251181-6bf4-4c7e-8843-d369f28fbbda"
      },
      "execution_count": 8,
      "outputs": [
        {
          "output_type": "display_data",
          "data": {
            "text/plain": [
              "<Figure size 640x480 with 1 Axes>"
            ],
            "image/png": "[encoded data removed]"
          },
          "metadata": {}
        }
      ]
    },
    {
      "cell_type": "code",
      "source": [
        "#컬럼명 수정(불필요한 특수문자 제거)\n",
        "columns=train.columns\n",
        "columns=columns.str.replace('(','').str.replace(')', '').str.replace('-','_').str.replace(',', '')\n",
        "\n",
        "train.columns=columns\n",
        "test.columns=columns\n",
        "test.columns"
      ],
      "metadata": {
        "colab": {
          "base_uri": "https://localhost:8080/"
        },
        "id": "OFKnpIhyWxOJ",
        "outputId": "60cbd5f0-1091-4fdf-b272-02d19be6e276"
      },
      "execution_count": 9,
      "outputs": [
        {
          "output_type": "execute_result",
          "data": {
            "text/plain": [
              "Index(['tBodyAcc_mean_X', 'tBodyAcc_mean_Y', 'tBodyAcc_mean_Z',\n",
              "       'tBodyAcc_std_X', 'tBodyAcc_std_Y', 'tBodyAcc_std_Z', 'tBodyAcc_mad_X',\n",
              "       'tBodyAcc_mad_Y', 'tBodyAcc_mad_Z', 'tBodyAcc_max_X',\n",
              "       ...\n",
              "       'angletBodyAccMeangravity', 'angletBodyAccJerkMeangravityMean',\n",
              "       'angletBodyGyroMeangravityMean', 'angletBodyGyroJerkMeangravityMean',\n",
              "       'angleXgravityMean', 'angleYgravityMean', 'angleZgravityMean',\n",
              "       'subject', 'Activity', 'ActivityName'],\n",
              "      dtype='object', length=564)"
            ]
          },
          "metadata": {},
          "execution_count": 9
        }
      ]
    },
    {
      "cell_type": "code",
      "source": [
        "#데이터셋을 csv 파일로 저장\n",
        "train.to_csv(os.path.join('/content/drive/MyDrive/src/data/train.csv'), index=False)\n",
        "test.to_csv(os.path.join('/content/drive/MyDrive/src/data/test.csv'), index=False)"
      ],
      "metadata": {
        "id": "snt9WCB2Xaqy"
      },
      "execution_count": 13,
      "outputs": []
    }
  ]
}